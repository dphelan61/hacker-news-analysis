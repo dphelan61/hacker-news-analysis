{
 "cells": [
  {
   "cell_type": "markdown",
   "metadata": {},
   "source": [
    "# Hacker News Analysis - Which Type of Posts Garner the Most Hits?\n",
    "\n",
    "In this project, we are trying to figure out what type of posts garner the most upvotes on the Hacker News site. After we're through, we'll have answers to the following questions:\n",
    "\n",
    "- Do Ask HN or Show HN receive more comments on average?\n",
    "- Do posts created at a certain time receive more comments on average?"
   ]
  },
  {
   "cell_type": "markdown",
   "metadata": {},
   "source": [
    "# Data set we will be working with\n",
    "\n",
    "We will be using a 20,000-row subset of the larger 300,000-row data set found below:\n",
    "\n",
    "> https://www.kaggle.com/hacker-news/hacker-news-posts\n",
    "\n",
    "For our reference, please see a data dictionary below:\n",
    "- id - The unique identifier from Hacker News for the post\n",
    "- title - The title of the post\n",
    "- url - The URL that the posts links to, if it the post has a URL\n",
    "- num_points - The number of points the post acquired, calculated as the total number of upvotes minus the total number of downvotes\n",
    "- num_comments - The number of comments that were made on the post\n",
    "- author - The username of the person who submitted the post\n",
    "- created_at - The date and time at which the post was submitted\n",
    "\n",
    "Now let's open the sample data set and dig in."
   ]
  },
  {
   "cell_type": "code",
   "execution_count": 1,
   "metadata": {},
   "outputs": [
    {
     "name": "stdout",
     "output_type": "stream",
     "text": [
      "[['id', 'title', 'url', 'num_points', 'num_comments', 'author', 'created_at'], ['12224879', 'Interactive Dynamic Video', 'http://www.interactivedynamicvideo.com/', '386', '52', 'ne0phyte', '8/4/2016 11:52'], ['10975351', 'How to Use Open Source and Shut the Fuck Up at the Same Time', 'http://hueniverse.com/2016/01/26/how-to-use-open-source-and-shut-the-fuck-up-at-the-same-time/', '39', '10', 'josep2', '1/26/2016 19:30'], ['11964716', \"Florida DJs May Face Felony for April Fools' Water Joke\", 'http://www.thewire.com/entertainment/2013/04/florida-djs-april-fools-water-joke/63798/', '2', '1', 'vezycash', '6/23/2016 22:20'], ['11919867', 'Technology ventures: From Idea to Enterprise', 'https://www.amazon.com/Technology-Ventures-Enterprise-Thomas-Byers/dp/0073523429', '3', '1', 'hswarna', '6/17/2016 0:01']]\n",
      "20101\n"
     ]
    }
   ],
   "source": [
    "# Read in the Hacker News data set using csv.reader\n",
    "from csv import reader\n",
    "opened_file = open(\"hacker_news.csv\")\n",
    "read_file = reader(opened_file)\n",
    "hn = list(read_file)\n",
    "\n",
    "# display the first five list items of the hacker_news file along with the length of the total data set\n",
    "print(hn[:5])\n",
    "print(len(hn))"
   ]
  },
  {
   "cell_type": "markdown",
   "metadata": {},
   "source": [
    "# Data Cleaning/Setup Part One - Removing the header\n",
    "Before we get to our analysis, let's first remove the header row from our data set"
   ]
  },
  {
   "cell_type": "code",
   "execution_count": 2,
   "metadata": {},
   "outputs": [
    {
     "name": "stdout",
     "output_type": "stream",
     "text": [
      "['id', 'title', 'url', 'num_points', 'num_comments', 'author', 'created_at']\n",
      "[['12224879', 'Interactive Dynamic Video', 'http://www.interactivedynamicvideo.com/', '386', '52', 'ne0phyte', '8/4/2016 11:52'], ['10975351', 'How to Use Open Source and Shut the Fuck Up at the Same Time', 'http://hueniverse.com/2016/01/26/how-to-use-open-source-and-shut-the-fuck-up-at-the-same-time/', '39', '10', 'josep2', '1/26/2016 19:30'], ['11964716', \"Florida DJs May Face Felony for April Fools' Water Joke\", 'http://www.thewire.com/entertainment/2013/04/florida-djs-april-fools-water-joke/63798/', '2', '1', 'vezycash', '6/23/2016 22:20'], ['11919867', 'Technology ventures: From Idea to Enterprise', 'https://www.amazon.com/Technology-Ventures-Enterprise-Thomas-Byers/dp/0073523429', '3', '1', 'hswarna', '6/17/2016 0:01'], ['10301696', 'Note by Note: The Making of Steinway L1037 (2007)', 'http://www.nytimes.com/2007/11/07/movies/07stein.html?_r=0', '8', '2', 'walterbell', '9/30/2015 4:12']]\n",
      "20100\n"
     ]
    }
   ],
   "source": [
    "headers = hn[0]\n",
    "hn = hn[1:]\n",
    "\n",
    "# Verify that the header columns were successfully removed\n",
    "print(headers)\n",
    "print(hn[:5])\n",
    "print(len(hn))"
   ]
  },
  {
   "cell_type": "markdown",
   "metadata": {},
   "source": [
    "# Data Cleaning/Setup Part Two - Filtering to Ask HN and Show HN\n",
    "Before we get to our analysis, let's first remove the header row from our data set to posts that start with \"Ask HN\" or \"Show HN\""
   ]
  },
  {
   "cell_type": "code",
   "execution_count": 3,
   "metadata": {},
   "outputs": [
    {
     "name": "stdout",
     "output_type": "stream",
     "text": [
      "1744\n",
      "1162\n",
      "17194\n",
      "20100\n"
     ]
    }
   ],
   "source": [
    "# Create three list variables for \"Ask HN\",\"Show HN\", and all other posts\n",
    "ask_posts = []\n",
    "show_posts = []\n",
    "other_posts = []\n",
    "\n",
    "# Assign the post to a list above based on whether the title starts with \"Ask HN\" or \"Show HN\"\n",
    "for post in hn:\n",
    "    \n",
    "    # make a variable for the title of a post for ease of use\n",
    "    # and make it all lowercase so we can see any form of \"Ask HN\" or \"Show HN\"\n",
    "    title = post[1].lower()\n",
    "    \n",
    "    # Now assign the post to a list based on what the title starts with\n",
    "    if title.startswith(\"ask hn\") == True:\n",
    "        ask_posts.append(post)\n",
    "    elif title.startswith(\"show hn\") == True:\n",
    "        show_posts.append(post)\n",
    "    else:\n",
    "        other_posts.append(post)\n",
    "        \n",
    "# Check the number of posts in each list to make sure it adds up to 20100\n",
    "print(len(ask_posts))\n",
    "print(len(show_posts))\n",
    "print(len(other_posts))\n",
    "total_posts = len(ask_posts) + len(show_posts) + len(other_posts)\n",
    "print(total_posts)"
   ]
  },
  {
   "cell_type": "markdown",
   "metadata": {},
   "source": [
    "# Analysis - Do Ask HN or Show HN receive more comments on average?\n",
    "Now that we have our two lists that contain \"Ask HN\" posts and \"Show HN\" posts, let's see which type of post receives more comments on average."
   ]
  },
  {
   "cell_type": "code",
   "execution_count": 4,
   "metadata": {},
   "outputs": [
    {
     "name": "stdout",
     "output_type": "stream",
     "text": [
      "14.038417431192661\n"
     ]
    }
   ],
   "source": [
    "# Find the total number of comments in ask posts\n",
    "total_ask_comments = 0\n",
    "for post in ask_posts:\n",
    "    num_comments = int(post[4])\n",
    "    total_ask_comments += num_comments\n",
    "    \n",
    "# Find the average number of comments for an ask post\n",
    "avg_comments_ask = total_ask_comments / len(ask_posts)\n",
    "print(avg_comments_ask)"
   ]
  },
  {
   "cell_type": "code",
   "execution_count": 5,
   "metadata": {},
   "outputs": [
    {
     "name": "stdout",
     "output_type": "stream",
     "text": [
      "10.31669535283993\n"
     ]
    }
   ],
   "source": [
    "# Find the total number of comments in show posts\n",
    "total_show_comments = 0\n",
    "for post in show_posts:\n",
    "    num_comments = int(post[4])\n",
    "    total_show_comments += num_comments\n",
    "    \n",
    "# Find the average number of comments for a show post\n",
    "avg_comments_show = total_show_comments / len(show_posts)\n",
    "print(avg_comments_show)"
   ]
  },
  {
   "cell_type": "markdown",
   "metadata": {},
   "source": [
    "It appears that \"Ask HN\" posts receive more comments on average than \"Show HN\" posts:\n",
    "- \"Ask HN\": roughly 14.04 comments per post on average\n",
    "- \"Show HN\": roughly 10.32 comments per post on average"
   ]
  },
  {
   "cell_type": "markdown",
   "metadata": {},
   "source": [
    "# Analysis - Does the time a post is made affect how many comments a post receives?\n",
    "\n",
    "Now that we've determined that \"Ask HN\" posts get more comments on average than \"Show HN\" posts, let's dig into the \"Ask HN\" posts and see if the time a post is made affects how many comments that post receives.\n",
    "\n",
    "### Hypothesis\n",
    "Posts made in the evening after a normal dinner time will receive more comments on average than other hours in the day. For a \"normal dinner time,\" I am assuming 6 - 8 PM, so between 8 - 11 PM (after 11 PM assuming bedtime) will receive the most comments out of all of the other hours in a day.\n",
    "\n",
    "### Approach to determining which time receives the most posts\n",
    "In order to determine what are the times a post receives the most comments on average in a given day, we'll do the following with the \"Ask HN\" posts:\n",
    "1. Calculate the amount of ask posts in each hour along with the number of comments for those posts in that hour\n",
    "2. Calculate the average number of comments an ask post receives for each hour of the day"
   ]
  },
  {
   "cell_type": "code",
   "execution_count": 42,
   "metadata": {},
   "outputs": [
    {
     "name": "stdout",
     "output_type": "stream",
     "text": [
      "Top 5 Hours for Ask Post Comments (in EST time zone)\n",
      "15:00 : 38.5948275862069\n",
      "02:00 : 23.810344827586206\n",
      "20:00 : 21.525\n",
      "16:00 : 16.796296296296298\n",
      "21:00 : 16.009174311926607\n"
     ]
    }
   ],
   "source": [
    "# Go through the ask posts and pull the number of comments and the time the post was made and put them into another list\n",
    "import datetime as dt\n",
    "result_list = []\n",
    "for post in ask_posts:\n",
    "    created_at = post[6]\n",
    "    num_comments = int(post[4])\n",
    "    result_list.append([created_at,num_comments])\n",
    "    \n",
    "\n",
    "# Create a couple of empty dictionaries to get the count of posts by hour and the count of comments by hour\n",
    "counts_by_hour = {}\n",
    "comments_by_hour = {}\n",
    "\n",
    "\n",
    "# Calculate the number of posts by hour and the number of comments by hour\n",
    "for post in result_list:\n",
    "    num_comments = post[1]\n",
    "    time_datetime = dt.datetime.strptime(post[0],\"%m/%d/%Y %H:%M\")\n",
    "    hour = dt.date.strftime(time_datetime, \"%H\")\n",
    "    if hour in counts_by_hour:\n",
    "        counts_by_hour[hour] += 1\n",
    "        comments_by_hour[hour] += num_comments\n",
    "    else:\n",
    "        counts_by_hour[hour] = 1\n",
    "        comments_by_hour[hour] = num_comments\n",
    "        \n",
    "\n",
    "# From there, let's get the average number of comments per hour\n",
    "avg_by_hour = []\n",
    "for hour in comments_by_hour:\n",
    "    avg_comments_per_hour = comments_by_hour[hour] / counts_by_hour[hour]\n",
    "    avg_by_hour.append([hour, avg_comments_per_hour])\n",
    "    \n",
    "\n",
    "# Finally, let's sort the avg comments per hour list from greatest amount of comments on avg to least amount\n",
    "# move the hours to the first part of each list for sorting\n",
    "swap_avg_by_hour = []\n",
    "for item in avg_by_hour:\n",
    "    hour = item[0]\n",
    "    avg_comments = item[1]\n",
    "    swap_avg_by_hour.append([avg_comments, hour])\n",
    "\n",
    "    \n",
    "# sort the list by avg_comments from the largest amount to the smallest amount\n",
    "sorted_swap = sorted(swap_avg_by_hour, reverse=True)\n",
    "\n",
    "\n",
    "# Print out the top 5 hours based on the largest average amount of comments\n",
    "print(\"Top 5 Hours for Ask Post Comments (in EST time zone)\")\n",
    "for item in sorted_swap[:5]:\n",
    "    hour_datetime = dt.datetime.strptime(item[1],\"%H\")\n",
    "    hour_formatted = dt.date.strftime(hour_datetime,\"%H:%M\")\n",
    "    avg_comments = str(item[0]).format(\"{:.2f}\")\n",
    "    print(hour_formatted,\":\",avg_comments)"
   ]
  },
  {
   "cell_type": "markdown",
   "metadata": {},
   "source": [
    "# Conclusion\n",
    "It appears that Ask Posts posted around 3:00 PM EST have the most comments on average compared to Ask Posts posted at other hours during the day, followed by 2:00 AM EST, 8:00 PM EST, 4:00 PM EST, then 9:00 PM EST. It appears that our hypothesis did get the 8:00 and 9:00 times right; however, we were incorrect in missing the late afternoon times and very late night time. One potential reason for the high amount of comments on Ask Posts made around 3:00 and 4:00 PM EST could be that these are commented on folks on the west coast in PST during their lunch break. This is assuming that a large majority of Hacker News readers live on the west coast where most major tech companies and Silicon Valley lie. We would just need somewhere that shows the location of comments in the data set if that could somehow be captured. In addition, the 2:00 AM EST Ask Posts could be commented by folks winding down and going to bed in other time zones, or, and I'm not sure if Hacker News ranks Ask Posts by most recent posts, but I could see how most folks on their way to work or getting up in the morning would see those posts made at 2:00 AM EST at the top of their feed, thus making these posts made by night owls commented on by the early birds."
   ]
  },
  {
   "cell_type": "code",
   "execution_count": null,
   "metadata": {},
   "outputs": [],
   "source": []
  }
 ],
 "metadata": {
  "kernelspec": {
   "display_name": "Python 3",
   "language": "python",
   "name": "python3"
  },
  "language_info": {
   "codemirror_mode": {
    "name": "ipython",
    "version": 3
   },
   "file_extension": ".py",
   "mimetype": "text/x-python",
   "name": "python",
   "nbconvert_exporter": "python",
   "pygments_lexer": "ipython3",
   "version": "3.6.5"
  }
 },
 "nbformat": 4,
 "nbformat_minor": 2
}
